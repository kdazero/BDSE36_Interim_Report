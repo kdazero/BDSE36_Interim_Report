{
 "cells": [
  {
   "cell_type": "markdown",
   "metadata": {},
   "source": [
    "### 下載檔案\n",
    "將下載的檔案移至當前路徑下的Data資料"
   ]
  },
  {
   "cell_type": "code",
   "execution_count": 1,
   "metadata": {},
   "outputs": [
    {
     "name": "stderr",
     "output_type": "stream",
     "text": [
      "c:\\Users\\bob01\\AppData\\Local\\Programs\\Python\\Python313\\Lib\\site-packages\\tqdm\\auto.py:21: TqdmWarning: IProgress not found. Please update jupyter and ipywidgets. See https://ipywidgets.readthedocs.io/en/stable/user_install.html\n",
      "  from .autonotebook import tqdm as notebook_tqdm\n"
     ]
    },
    {
     "name": "stdout",
     "output_type": "stream",
     "text": [
      "Downloading from https://www.kaggle.com/api/v1/datasets/download/fronkongames/steam-games-dataset?dataset_version_number=29...\n"
     ]
    },
    {
     "name": "stderr",
     "output_type": "stream",
     "text": [
      "100%|██████████| 211M/211M [00:44<00:00, 4.98MB/s] "
     ]
    },
    {
     "name": "stdout",
     "output_type": "stream",
     "text": [
      "Extracting files...\n"
     ]
    },
    {
     "name": "stderr",
     "output_type": "stream",
     "text": [
      "\n"
     ]
    },
    {
     "name": "stdout",
     "output_type": "stream",
     "text": [
      "Path to dataset files: C:\\Users\\bob01\\.cache\\kagglehub\\datasets\\fronkongames\\steam-games-dataset\\versions\\29\n"
     ]
    }
   ],
   "source": [
    "import kagglehub\n",
    "\n",
    "# Download latest version\n",
    "path = kagglehub.dataset_download(\"fronkongames/steam-games-dataset\")\n",
    "\n",
    "print(\"Path to dataset files:\", path)"
   ]
  },
  {
   "cell_type": "markdown",
   "metadata": {},
   "source": [
    "### 檔案讀取 & 拆分\n",
    "為了後續分析方便，將檔案已遊戲售價 (game['price']) 是否為0做區分 \n",
    "\n",
    "方便計算免費遊戲及付費遊戲的各項差距\n",
    "\n",
    "本資料集只取用本次分析所需欄位，已刪除大部份與本次分析無關欄位"
   ]
  },
  {
   "cell_type": "code",
   "execution_count": 8,
   "metadata": {},
   "outputs": [],
   "source": [
    "# Simple parse of the 'games.json' file.\n",
    "import os\n",
    "import json\n",
    "\n",
    "dataset = {}\n",
    "if os.path.exists('./Data/games.json'):\n",
    "    with open('./Data/games.json', 'r', encoding='utf-8') as fin:\n",
    "        text = fin.read()\n",
    "        if len(text) > 0:\n",
    "            dataset = json.loads(text)\n",
    "\n",
    "# 建立一個 list 來儲存所有遊戲的資料\n",
    "all_games = []\n",
    "\n",
    "for app in dataset:\n",
    "    appID = app  # AppID, unique identifier for each app (string).\n",
    "    game = dataset[app]\n",
    "\n",
    "    # 將每個遊戲的資料儲存成一個 dictionary\n",
    "    game_data = {\n",
    "        # 'appID': appID,\n",
    "        'releaseDate': game['release_date'],  # Release date (string).\n",
    "        # 'estimatedOwners': game['estimated_owners'],  # Estimated owners (string, e.g.: \"0 - 20000\").\n",
    "        # 'peakCCU': game['peak_ccu'],  # Number of concurrent users, yesterday (int).\n",
    "        # 'required_age': game['required_age'],  # Age required to play, 0 if it is for all audiences (int).\n",
    "        'price': game['price'],  # Price in USD, 0.0 if its free (float).\n",
    "        # 'dlcCount': game['dlc_count'],  # Number of DLCs, 0 if you have none (int).\n",
    "        'languages': game['supported_languages'],  # Comma-separated enumeration of supporting languages.\n",
    "        # 'fullAudioLanguages': game['full_audio_languages'],  # Comma-separated enumeration of languages with audio support.\n",
    "        'supportWindows': game['windows'],  # Does it support Windows? (bool).\n",
    "        'supportMac': game['mac'],  # Does it support Mac? (bool).\n",
    "        'supportLinux': game['linux'],  # Does it support Linux? (bool).\n",
    "        'averagePlaytime': game['average_playtime_forever'],  # Average playtime since March 2009, in minutes (int).\n",
    "        'averageplaytime2W': game['average_playtime_2weeks'],  # Average playtime in the last two weeks, in minutes (int).\n",
    "        'medianPlaytime': game['median_playtime_forever'],  # Median playtime since March 2009, in minutes (int).\n",
    "        'medianPlaytime2W': game['median_playtime_2weeks'],  # Median playtime in the last two weeks, in minutes (int).\n",
    "        # 'categories': [category for category in game['categories']],  # Game categories.\n",
    "        # 'genres': [gender for gender in game['genres']],  # Game genres.\n",
    "        'tags': [tag for tag in game['tags']]  # Tags.\n",
    "    }\n",
    "    \n",
    "    # 將 game_data 加入 all_games list\n",
    "    all_games.append(game_data)\n",
    "\n",
    "# 建立兩個 list，一個存放免費遊戲，一個存放付費遊戲\n",
    "free_games = []\n",
    "paid_games = []\n",
    "\n",
    "# 將遊戲依據價格分類\n",
    "for game in all_games:\n",
    "    if game['price'] == 0:\n",
    "        free_games.append(game)\n",
    "    else:\n",
    "        paid_games.append(game)\n",
    "\n",
    "# 儲存免費和付費遊戲的 JSON 檔案\n",
    "with open('free_games.json', 'w', encoding='utf-8') as f:\n",
    "    json.dump(free_games, f, ensure_ascii=False, indent=4)\n",
    "\n",
    "with open('paid_games.json', 'w', encoding='utf-8') as f:\n",
    "    json.dump(paid_games, f, ensure_ascii=False, indent=4)"
   ]
  }
 ],
 "metadata": {
  "kernelspec": {
   "display_name": "Python 3",
   "language": "python",
   "name": "python3"
  },
  "language_info": {
   "codemirror_mode": {
    "name": "ipython",
    "version": 3
   },
   "file_extension": ".py",
   "mimetype": "text/x-python",
   "name": "python",
   "nbconvert_exporter": "python",
   "pygments_lexer": "ipython3",
   "version": "3.13.0"
  }
 },
 "nbformat": 4,
 "nbformat_minor": 2
}
